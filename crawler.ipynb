{
 "cells": [
  {
   "cell_type": "markdown",
   "metadata": {},
   "source": [
    "### Imports"
   ]
  },
  {
   "cell_type": "code",
   "execution_count": 13,
   "metadata": {
    "scrolled": true
   },
   "outputs": [],
   "source": [
    "import os\n",
    "import re\n",
    "from tqdm import tqdm\n",
    "from bs4 import BeautifulSoup\n",
    "from tabulate import tabulate\n",
    "\n",
    "import logging # TODO NEXT: use this!\n",
    "\n",
    "from selenium.webdriver import Firefox\n",
    "from selenium.webdriver.common.by import By\n",
    "from selenium.webdriver.firefox.options import Options\n",
    "from selenium.webdriver.support import expected_conditions as expected\n",
    "from selenium.webdriver.support.wait import WebDriverWait"
   ]
  },
  {
   "cell_type": "markdown",
   "metadata": {},
   "source": [
    "## Script inputs (to be parsed)"
   ]
  },
  {
   "cell_type": "code",
   "execution_count": 2,
   "metadata": {},
   "outputs": [
    {
     "name": "stdout",
     "output_type": "stream",
     "text": [
      "Using C:\\dev\\geckodriver.exe for geckodriver path\n"
     ]
    }
   ],
   "source": [
    "report_file = 'report-filtered.html'\n",
    "\n",
    "# TODO: make this a passed param\n",
    "if os.path.exists('C:\\dev\\geckodriver.exe'):\n",
    "    executable_path = 'C:\\dev\\geckodriver.exe'\n",
    "    \n",
    "elif os.path.exists('/usr/local/bin/geckodriver'):\n",
    "    executable_path = '/usr/local/bin/geckodriver'\n",
    "\n",
    "else:\n",
    "    raise OSError('Geckodriver not found')\n",
    "    \n",
    "print(f'Using {executable_path} for geckodriver path')"
   ]
  },
  {
   "cell_type": "markdown",
   "metadata": {},
   "source": [
    "## Parse the existing report"
   ]
  },
  {
   "cell_type": "markdown",
   "metadata": {},
   "source": [
    "Input to this module is just the report_file"
   ]
  },
  {
   "cell_type": "code",
   "execution_count": 3,
   "metadata": {},
   "outputs": [],
   "source": [
    "with open(report_file) as html_file:\n",
    "    soup = BeautifulSoup(html_file, 'html.parser')"
   ]
  },
  {
   "cell_type": "code",
   "execution_count": 4,
   "metadata": {},
   "outputs": [],
   "source": [
    "data_rows = soup('tr')[3:]\n",
    "visible_rows = [row for row in data_rows if 'style' not in row.attrs or not row['style']]"
   ]
  },
  {
   "cell_type": "code",
   "execution_count": 5,
   "metadata": {},
   "outputs": [],
   "source": [
    "def get_description(tr):\n",
    "    # Get the description from a row\n",
    "    return tr('td')[1].text.strip()"
   ]
  },
  {
   "cell_type": "code",
   "execution_count": 6,
   "metadata": {},
   "outputs": [],
   "source": [
    "def get_graph_link(tr):\n",
    "    # Get the graph link from a row\n",
    "    return tr.find('a')['href']"
   ]
  },
  {
   "cell_type": "code",
   "execution_count": 7,
   "metadata": {},
   "outputs": [],
   "source": [
    "def get_data_tds(tr):\n",
    "    # tds from 3 are data\n",
    "    return tr('td')[3:]"
   ]
  },
  {
   "cell_type": "code",
   "execution_count": 8,
   "metadata": {},
   "outputs": [],
   "source": [
    "# Ignore the first 3 tds in third row, rest are data\n",
    "data_headings = soup('tr')[2]('td')[3:]"
   ]
  },
  {
   "cell_type": "code",
   "execution_count": 9,
   "metadata": {},
   "outputs": [],
   "source": [
    "data = [{\n",
    "    'title': get_description(row),\n",
    "    'graph_link': get_graph_link(row),\n",
    "    'tds': get_data_tds(row)\n",
    "} for row in visible_rows]"
   ]
  },
  {
   "cell_type": "markdown",
   "metadata": {},
   "source": [
    "Output of this module is data_headings, data"
   ]
  },
  {
   "cell_type": "markdown",
   "metadata": {},
   "source": [
    "## Supplement with graph images"
   ]
  },
  {
   "cell_type": "markdown",
   "metadata": {},
   "source": [
    "Input to this module is geckodriver_path, and data from the report file"
   ]
  },
  {
   "cell_type": "code",
   "execution_count": 10,
   "metadata": {},
   "outputs": [],
   "source": [
    "def get_graph_screenshot(url):\n",
    "    # Reset the wait each time\n",
    "    wait = WebDriverWait(driver, timeout=300)\n",
    "    # Render the URL with geckodriver, return the graph screenshot in base64    \n",
    "    driver.get(url)\n",
    "    \n",
    "    # On draw starting the progress_img element appears (spinner). When done it disappears.\n",
    "    wait.until(expected.visibility_of_element_located((By.ID, 'progress_img')))\n",
    "    wait.until(expected.invisibility_of_element_located((By.ID, 'progress_img')))\n",
    "\n",
    "    canvas = driver.find_element_by_tag_name('canvas')\n",
    "    canvas_bytes = canvas.screenshot_as_base64\n",
    "\n",
    "    return canvas_bytes"
   ]
  },
  {
   "cell_type": "code",
   "execution_count": 11,
   "metadata": {},
   "outputs": [],
   "source": [
    "options = Options()\n",
    "options.add_argument('-headless')"
   ]
  },
  {
   "cell_type": "code",
   "execution_count": 14,
   "metadata": {},
   "outputs": [
    {
     "name": "stderr",
     "output_type": "stream",
     "text": [
      "100%|████████████████████████████████████████████████████████| 10/10 [01:03<00:00,  6.33s/it]\n"
     ]
    }
   ],
   "source": [
    "driver = Firefox(executable_path=executable_path, firefox_options=options)\n",
    "\n",
    "for item in tqdm(data):\n",
    "    item['graph_bytes'] = get_graph_screenshot(item['graph_link'])\n",
    "\n",
    "driver.quit()"
   ]
  },
  {
   "cell_type": "markdown",
   "metadata": {},
   "source": [
    "Output of this module is just the augmented data"
   ]
  },
  {
   "cell_type": "markdown",
   "metadata": {},
   "source": [
    "## Generate output"
   ]
  },
  {
   "cell_type": "markdown",
   "metadata": {},
   "source": [
    "Input to this module is data_headings (from report parsing), data (after augmenting with graphs)"
   ]
  },
  {
   "cell_type": "code",
   "execution_count": 15,
   "metadata": {},
   "outputs": [],
   "source": [
    "def make_image_element(image_bytes):\n",
    "    return f\"<img src='data:image/png;base64,{image_bytes}' />\""
   ]
  },
  {
   "cell_type": "code",
   "execution_count": 16,
   "metadata": {},
   "outputs": [],
   "source": [
    "eles = [make_image_element(item['graph_bytes']) for item in data]"
   ]
  },
  {
   "cell_type": "code",
   "execution_count": 17,
   "metadata": {},
   "outputs": [],
   "source": [
    "def join_cells(tds):\n",
    "    # Join string representations of the tds\n",
    "    return ''.join([str(td) for td in tds])"
   ]
  },
  {
   "cell_type": "code",
   "execution_count": 18,
   "metadata": {},
   "outputs": [],
   "source": [
    "def make_table_element(heading_cells, data_cells):\n",
    "    return f\"<table><tr>{join_cells(heading_cells)}</tr><tr>{join_cells(data_cells)}</tr></table>\""
   ]
  },
  {
   "cell_type": "code",
   "execution_count": 19,
   "metadata": {},
   "outputs": [],
   "source": [
    "def write_item(item):\n",
    "    return f\"<h3>{item['title']} \\\n",
    "        <small><a href='{item['graph_link']}'>(View in RAGE)</a></small> \\\n",
    "        </h3> \\\n",
    "        <div>{make_table_element(data_headings, item['tds'])}</div> \\\n",
    "        <div>{make_image_element(item['graph_bytes'])}</div>\""
   ]
  },
  {
   "cell_type": "code",
   "execution_count": 20,
   "metadata": {},
   "outputs": [],
   "source": [
    "written_items = '\\n'.join([write_item(item) for item in data])"
   ]
  },
  {
   "cell_type": "code",
   "execution_count": 21,
   "metadata": {},
   "outputs": [],
   "source": [
    "html = f\"\"\"<html>\n",
    "    <body>\n",
    "        {written_items}\n",
    "    </body>\n",
    "</html>\n",
    "\"\"\""
   ]
  },
  {
   "cell_type": "code",
   "execution_count": 22,
   "metadata": {},
   "outputs": [],
   "source": [
    "with open('output.html', 'w') as f:\n",
    "    print(html, file=f)"
   ]
  },
  {
   "cell_type": "code",
   "execution_count": null,
   "metadata": {},
   "outputs": [],
   "source": []
  }
 ],
 "metadata": {
  "kernelspec": {
   "display_name": "rage-crawl-fZnitYnf",
   "language": "python",
   "name": "rage-crawl-fznitynf"
  },
  "language_info": {
   "codemirror_mode": {
    "name": "ipython",
    "version": 3
   },
   "file_extension": ".py",
   "mimetype": "text/x-python",
   "name": "python",
   "nbconvert_exporter": "python",
   "pygments_lexer": "ipython3",
   "version": "3.6.1"
  }
 },
 "nbformat": 4,
 "nbformat_minor": 2
}
