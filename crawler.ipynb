{
 "cells": [
  {
   "cell_type": "markdown",
   "metadata": {},
   "source": [
    "### Imports"
   ]
  },
  {
   "cell_type": "code",
   "execution_count": 1,
   "metadata": {
    "scrolled": true
   },
   "outputs": [],
   "source": [
    "import base64\n",
    "import os\n",
    "import time\n",
    "from bs4 import BeautifulSoup\n",
    "\n",
    "from selenium.webdriver import Firefox\n",
    "from selenium.webdriver.common.by import By\n",
    "from selenium.webdriver.common.keys import Keys\n",
    "from selenium.webdriver.firefox.options import Options\n",
    "from selenium.webdriver.support import expected_conditions as expected\n",
    "from selenium.webdriver.support.wait import WebDriverWait"
   ]
  },
  {
   "cell_type": "markdown",
   "metadata": {},
   "source": [
    "## Parse the existing report"
   ]
  },
  {
   "cell_type": "code",
   "execution_count": 2,
   "metadata": {},
   "outputs": [],
   "source": [
    "with open('report-filtered.html') as html_file:\n",
    "    soup = BeautifulSoup(html_file, 'html.parser')"
   ]
  },
  {
   "cell_type": "code",
   "execution_count": 192,
   "metadata": {},
   "outputs": [],
   "source": [
    "data_rows = soup('tr')[3:]\n",
    "visible_rows = [row for row in data_rows if 'style' not in row.attrs or not row['style']]"
   ]
  },
  {
   "cell_type": "code",
   "execution_count": 193,
   "metadata": {},
   "outputs": [
    {
     "data": {
      "text/plain": [
       "10"
      ]
     },
     "execution_count": 193,
     "metadata": {},
     "output_type": "execute_result"
    }
   ],
   "source": [
    "len(visible_rows)"
   ]
  },
  {
   "cell_type": "code",
   "execution_count": 194,
   "metadata": {},
   "outputs": [],
   "source": [
    "def get_description(tr):\n",
    "    # Get the description from a row\n",
    "    return tr('td')[1].text.strip()"
   ]
  },
  {
   "cell_type": "code",
   "execution_count": 195,
   "metadata": {},
   "outputs": [],
   "source": [
    "def get_graph_link(tr):\n",
    "    # Get the graph link from a row\n",
    "    return tr.find('a')['href']"
   ]
  },
  {
   "cell_type": "code",
   "execution_count": 196,
   "metadata": {},
   "outputs": [],
   "source": [
    "data = [{\n",
    "    'title': get_description(row),\n",
    "    'graph_link': get_graph_link(row)\n",
    "} for row in visible_rows]"
   ]
  },
  {
   "cell_type": "markdown",
   "metadata": {},
   "source": [
    "## Supplement with graph images"
   ]
  },
  {
   "cell_type": "code",
   "execution_count": 197,
   "metadata": {},
   "outputs": [
    {
     "name": "stdout",
     "output_type": "stream",
     "text": [
      "Using /usr/local/bin/geckodriver for geckodriver path\n"
     ]
    }
   ],
   "source": [
    "if os.path.exists('C:\\dev\\geckodriver'):\n",
    "    executable_path = 'C:\\dev\\geckodriver'\n",
    "    \n",
    "elif os.path.exists('/usr/local/bin/geckodriver'):\n",
    "    executable_path = '/usr/local/bin/geckodriver'\n",
    "\n",
    "else:\n",
    "    raise OSError('Geckodriver not found')\n",
    "    \n",
    "print(f'Using {executable_path} for geckodriver path')"
   ]
  },
  {
   "cell_type": "code",
   "execution_count": 201,
   "metadata": {},
   "outputs": [],
   "source": [
    "import hashlib\n",
    "import time\n",
    "\n",
    "def get_graph_screenshot(url):\n",
    "    print(hashlib.md5(url.encode('utf-8')).hexdigest())\n",
    "    \n",
    "    # This isn't ideal, but wait doesn't seem to work properly when \n",
    "    # getting multiple URLs and making a new driver guarantees no duplicated graphs\n",
    "    driver = Firefox(executable_path=executable_path, firefox_options=options)\n",
    "    wait = WebDriverWait(driver, timeout=300)\n",
    "    # Render the URL with geckodriver, return the graph screenshot in base64    \n",
    "    driver.get(url)\n",
    "    # Canvas write is async, no easy event to follow - just wait a second for now\n",
    "    time.sleep(1) \n",
    "       \n",
    "    canvas = driver.find_element_by_tag_name('canvas')\n",
    "    canvas_bytes = canvas.screenshot_as_base64\n",
    "    \n",
    "    driver.quit()\n",
    "    \n",
    "    return canvas_bytes"
   ]
  },
  {
   "cell_type": "code",
   "execution_count": 203,
   "metadata": {},
   "outputs": [],
   "source": [
    "options = Options()\n",
    "options.add_argument('-headless')"
   ]
  },
  {
   "cell_type": "code",
   "execution_count": 205,
   "metadata": {},
   "outputs": [
    {
     "name": "stdout",
     "output_type": "stream",
     "text": [
      "1c174f787543453eeb23a35ca45c7509\n",
      "0a2a69cae67b1f8c18cff7f5258f15c2\n",
      "5eb6db107f34e07a5e340fdf4b4cc4f9\n",
      "57e772abe65a767bff5be7610cb2435b\n",
      "05fe26bfdf7a68a66656be3fab1c707c\n",
      "39be67f54548f65076d5bfde5ba097da\n",
      "8b6c016c6a7bc7c9c3e6af5d99606b77\n",
      "5cb5c0e06ba6fff192028e96515e5607\n",
      "568cf012dbed31d48acd59d737ae79f0\n",
      "4e43266447f76ece598a1900e5a0efda\n",
      "ae6369ac6e173c74b732ff0fb52f9586\n",
      "d651794212f59ddfc3ea377c35a73f0b\n",
      "aab1e448b000154934d01b6ae45c2bf0\n",
      "e0c7c0f3c7ddb829b673d4492f29a1c5\n",
      "6fc499709ea2b23e4fa7d178141d58ec\n",
      "f10f1b59159b5b1021361912acda9c8e\n",
      "a1276b070db1b0dc056908a1d9a8bd53\n",
      "00334caf816aea9e89daea674cf9cab5\n",
      "456f7c8a93f913f561a4cf6f66c7c7c6\n",
      "300d171f96f8324d415c78831aff6ad9\n"
     ]
    }
   ],
   "source": [
    "import hashlib\n",
    "\n",
    "for item in data:\n",
    "    item['graph_bytes'] = get_graph_screenshot(item['graph_link'])\n",
    "\n",
    "for item in data:\n",
    "    print(hashlib.md5(item['graph_bytes'].encode('utf-8')).hexdigest())\n",
    "    \n",
    "driver.quit()"
   ]
  },
  {
   "cell_type": "code",
   "execution_count": 206,
   "metadata": {},
   "outputs": [
    {
     "name": "stdout",
     "output_type": "stream",
     "text": [
      "10\n",
      "10\n"
     ]
    }
   ],
   "source": [
    "bs = [item['graph_bytes'] for item in data]\n",
    "print(len(bs))\n",
    "print(len(set(bs)))"
   ]
  },
  {
   "cell_type": "markdown",
   "metadata": {},
   "source": [
    "## Generate output"
   ]
  },
  {
   "cell_type": "code",
   "execution_count": 207,
   "metadata": {},
   "outputs": [],
   "source": [
    "def make_image_element(image_bytes):\n",
    "    return f\"<img src='data:image/png;base64,{image_bytes}'>\""
   ]
  },
  {
   "cell_type": "code",
   "execution_count": 208,
   "metadata": {},
   "outputs": [],
   "source": [
    "eles = [make_image_element(item['graph_bytes']) for item in data]"
   ]
  },
  {
   "cell_type": "code",
   "execution_count": 209,
   "metadata": {},
   "outputs": [],
   "source": [
    "def write_item(item):\n",
    "    return f\"<h3>{item['title']} \\\n",
    "        <small><a href='{item['graph_link']}'>(View in RAGE)</a></small> \\\n",
    "        </h3> \\\n",
    "        {make_image_element(item['graph_bytes'])}<br>\""
   ]
  },
  {
   "cell_type": "code",
   "execution_count": 210,
   "metadata": {},
   "outputs": [],
   "source": [
    "written_items = '\\n'.join([write_item(item) for item in data])"
   ]
  },
  {
   "cell_type": "code",
   "execution_count": 211,
   "metadata": {},
   "outputs": [],
   "source": [
    "html = f\"\"\"<html>\n",
    "    <body>\n",
    "        {written_items}\n",
    "    </body>\n",
    "</html>\n",
    "\"\"\""
   ]
  },
  {
   "cell_type": "code",
   "execution_count": 212,
   "metadata": {},
   "outputs": [],
   "source": [
    "with open('output.html', 'w') as f:\n",
    "    print(html, file=f)"
   ]
  },
  {
   "cell_type": "code",
   "execution_count": null,
   "metadata": {},
   "outputs": [],
   "source": []
  }
 ],
 "metadata": {
  "kernelspec": {
   "display_name": "rage-analysis-ycU54wLQ",
   "language": "python",
   "name": "rage-analysis-ycu54wlq"
  },
  "language_info": {
   "codemirror_mode": {
    "name": "ipython",
    "version": 3
   },
   "file_extension": ".py",
   "mimetype": "text/x-python",
   "name": "python",
   "nbconvert_exporter": "python",
   "pygments_lexer": "ipython3",
   "version": "3.6.4"
  }
 },
 "nbformat": 4,
 "nbformat_minor": 2
}
